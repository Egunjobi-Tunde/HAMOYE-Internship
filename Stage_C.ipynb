{
 "cells": [
  {
   "cell_type": "markdown",
   "id": "6d9d02fb",
   "metadata": {},
   "source": [
    "Instructions for Tag-Along Project\n",
    "Stability of the Grid System\n",
    "\n",
    "Electrical grids require a balance between electricity supply and demand in order to be stable. Conventional systems achieve this balance through demand-driven electricity production. For future grids with a high share of inflexible (i.e., renewable) energy sources, the concept of demand response is a promising solution. This implies changes in electricity consumption in relation to electricity price changes. In this work, we’ll build a binary classification model to predict if a grid is stable or unstable using the UCI Electrical Grid Stability Simulated dataset.\n",
    "\n",
    "Dataset: https://archive.ics.uci.edu/ml/datasets/Electrical+Grid+Stability+Simulated+Data+\n",
    "\n",
    "It has 12 primary predictive features and two dependent variables.\n",
    "\n",
    "Predictive features:\n",
    "\n",
    "'tau1' to 'tau4': the reaction time of each network participant, a real value within the range 0.5 to 10 ('tau1' corresponds to the supplier node, 'tau2' to 'tau4' to the consumer nodes);\n",
    "'p1' to 'p4': nominal power produced (positive) or consumed (negative) by each network participant, a real value within the range -2.0 to -0.5 for consumers ('p2' to 'p4'). As the total power consumed equals the total power generated, p1 (supplier node) = - (p2 + p3 + p4);\n",
    "'g1' to 'g4': price elasticity coefficient for each network participant, a real value within the range 0.05 to 1.00 ('g1' corresponds to the supplier node, 'g2' to 'g4' to the consumer nodes; 'g' stands for 'gamma');\n",
    "Dependent variables:\n",
    "\n",
    "'stab': the maximum real part of the characteristic differential equation root (if positive, the system is linearly unstable; if negative, linearly stable);\n",
    "'stabf': a categorical (binary) label ('stable' or 'unstable').\n",
    "Because of the direct relationship between 'stab' and 'stabf' ('stabf' = 'stable' if 'stab' <= 0, 'unstable' otherwise), 'stab' should be dropped and 'stabf' will remain as the sole dependent variable (binary classification).\n",
    "\n",
    "Split the data into an 80-20 train-test split with a random state of “1”. Use the standard scaler to transform the train set (x_train, y_train) and the test set (x_test). Use scikit learn to train a random forest and extra trees classifier. And use xgboost and lightgbm to train an extreme boosting model and a light gradient boosting model. Use random_state = 1 for training all models and evaluate on the test set. Answer the following questions:"
   ]
  },
  {
   "cell_type": "code",
   "execution_count": 34,
   "id": "d7a160e5",
   "metadata": {},
   "outputs": [],
   "source": [
    "import pandas as pd\n",
    "import numpy as np\n",
    "import warnings\n",
    "warnings.filterwarnings('ignore')"
   ]
  },
  {
   "cell_type": "code",
   "execution_count": 2,
   "id": "582ce399",
   "metadata": {},
   "outputs": [],
   "source": [
    "df = pd.read_csv(\"Data_for_UCI_named.csv\")"
   ]
  },
  {
   "cell_type": "code",
   "execution_count": 3,
   "id": "e918ea28",
   "metadata": {},
   "outputs": [
    {
     "data": {
      "text/html": [
       "<div>\n",
       "<style scoped>\n",
       "    .dataframe tbody tr th:only-of-type {\n",
       "        vertical-align: middle;\n",
       "    }\n",
       "\n",
       "    .dataframe tbody tr th {\n",
       "        vertical-align: top;\n",
       "    }\n",
       "\n",
       "    .dataframe thead th {\n",
       "        text-align: right;\n",
       "    }\n",
       "</style>\n",
       "<table border=\"1\" class=\"dataframe\">\n",
       "  <thead>\n",
       "    <tr style=\"text-align: right;\">\n",
       "      <th></th>\n",
       "      <th>tau1</th>\n",
       "      <th>tau2</th>\n",
       "      <th>tau3</th>\n",
       "      <th>tau4</th>\n",
       "      <th>p1</th>\n",
       "      <th>p2</th>\n",
       "      <th>p3</th>\n",
       "      <th>p4</th>\n",
       "      <th>g1</th>\n",
       "      <th>g2</th>\n",
       "      <th>g3</th>\n",
       "      <th>g4</th>\n",
       "      <th>stab</th>\n",
       "      <th>stabf</th>\n",
       "    </tr>\n",
       "  </thead>\n",
       "  <tbody>\n",
       "    <tr>\n",
       "      <th>0</th>\n",
       "      <td>2.959060</td>\n",
       "      <td>3.079885</td>\n",
       "      <td>8.381025</td>\n",
       "      <td>9.780754</td>\n",
       "      <td>3.763085</td>\n",
       "      <td>-0.782604</td>\n",
       "      <td>-1.257395</td>\n",
       "      <td>-1.723086</td>\n",
       "      <td>0.650456</td>\n",
       "      <td>0.859578</td>\n",
       "      <td>0.887445</td>\n",
       "      <td>0.958034</td>\n",
       "      <td>0.055347</td>\n",
       "      <td>unstable</td>\n",
       "    </tr>\n",
       "    <tr>\n",
       "      <th>1</th>\n",
       "      <td>9.304097</td>\n",
       "      <td>4.902524</td>\n",
       "      <td>3.047541</td>\n",
       "      <td>1.369357</td>\n",
       "      <td>5.067812</td>\n",
       "      <td>-1.940058</td>\n",
       "      <td>-1.872742</td>\n",
       "      <td>-1.255012</td>\n",
       "      <td>0.413441</td>\n",
       "      <td>0.862414</td>\n",
       "      <td>0.562139</td>\n",
       "      <td>0.781760</td>\n",
       "      <td>-0.005957</td>\n",
       "      <td>stable</td>\n",
       "    </tr>\n",
       "    <tr>\n",
       "      <th>2</th>\n",
       "      <td>8.971707</td>\n",
       "      <td>8.848428</td>\n",
       "      <td>3.046479</td>\n",
       "      <td>1.214518</td>\n",
       "      <td>3.405158</td>\n",
       "      <td>-1.207456</td>\n",
       "      <td>-1.277210</td>\n",
       "      <td>-0.920492</td>\n",
       "      <td>0.163041</td>\n",
       "      <td>0.766689</td>\n",
       "      <td>0.839444</td>\n",
       "      <td>0.109853</td>\n",
       "      <td>0.003471</td>\n",
       "      <td>unstable</td>\n",
       "    </tr>\n",
       "    <tr>\n",
       "      <th>3</th>\n",
       "      <td>0.716415</td>\n",
       "      <td>7.669600</td>\n",
       "      <td>4.486641</td>\n",
       "      <td>2.340563</td>\n",
       "      <td>3.963791</td>\n",
       "      <td>-1.027473</td>\n",
       "      <td>-1.938944</td>\n",
       "      <td>-0.997374</td>\n",
       "      <td>0.446209</td>\n",
       "      <td>0.976744</td>\n",
       "      <td>0.929381</td>\n",
       "      <td>0.362718</td>\n",
       "      <td>0.028871</td>\n",
       "      <td>unstable</td>\n",
       "    </tr>\n",
       "    <tr>\n",
       "      <th>4</th>\n",
       "      <td>3.134112</td>\n",
       "      <td>7.608772</td>\n",
       "      <td>4.943759</td>\n",
       "      <td>9.857573</td>\n",
       "      <td>3.525811</td>\n",
       "      <td>-1.125531</td>\n",
       "      <td>-1.845975</td>\n",
       "      <td>-0.554305</td>\n",
       "      <td>0.797110</td>\n",
       "      <td>0.455450</td>\n",
       "      <td>0.656947</td>\n",
       "      <td>0.820923</td>\n",
       "      <td>0.049860</td>\n",
       "      <td>unstable</td>\n",
       "    </tr>\n",
       "  </tbody>\n",
       "</table>\n",
       "</div>"
      ],
      "text/plain": [
       "       tau1      tau2      tau3      tau4        p1        p2        p3  \\\n",
       "0  2.959060  3.079885  8.381025  9.780754  3.763085 -0.782604 -1.257395   \n",
       "1  9.304097  4.902524  3.047541  1.369357  5.067812 -1.940058 -1.872742   \n",
       "2  8.971707  8.848428  3.046479  1.214518  3.405158 -1.207456 -1.277210   \n",
       "3  0.716415  7.669600  4.486641  2.340563  3.963791 -1.027473 -1.938944   \n",
       "4  3.134112  7.608772  4.943759  9.857573  3.525811 -1.125531 -1.845975   \n",
       "\n",
       "         p4        g1        g2        g3        g4      stab     stabf  \n",
       "0 -1.723086  0.650456  0.859578  0.887445  0.958034  0.055347  unstable  \n",
       "1 -1.255012  0.413441  0.862414  0.562139  0.781760 -0.005957    stable  \n",
       "2 -0.920492  0.163041  0.766689  0.839444  0.109853  0.003471  unstable  \n",
       "3 -0.997374  0.446209  0.976744  0.929381  0.362718  0.028871  unstable  \n",
       "4 -0.554305  0.797110  0.455450  0.656947  0.820923  0.049860  unstable  "
      ]
     },
     "execution_count": 3,
     "metadata": {},
     "output_type": "execute_result"
    }
   ],
   "source": [
    "df.head()"
   ]
  },
  {
   "cell_type": "code",
   "execution_count": 4,
   "id": "8a17acdd",
   "metadata": {},
   "outputs": [
    {
     "data": {
      "text/plain": [
       "(10000, 14)"
      ]
     },
     "execution_count": 4,
     "metadata": {},
     "output_type": "execute_result"
    }
   ],
   "source": [
    "df.shape"
   ]
  },
  {
   "cell_type": "code",
   "execution_count": 5,
   "id": "6331e5f6",
   "metadata": {},
   "outputs": [
    {
     "data": {
      "text/plain": [
       "tau1     0\n",
       "tau2     0\n",
       "tau3     0\n",
       "tau4     0\n",
       "p1       0\n",
       "p2       0\n",
       "p3       0\n",
       "p4       0\n",
       "g1       0\n",
       "g2       0\n",
       "g3       0\n",
       "g4       0\n",
       "stab     0\n",
       "stabf    0\n",
       "dtype: int64"
      ]
     },
     "execution_count": 5,
     "metadata": {},
     "output_type": "execute_result"
    }
   ],
   "source": [
    "df.isna().sum()"
   ]
  },
  {
   "cell_type": "code",
   "execution_count": 6,
   "id": "82127f6a",
   "metadata": {},
   "outputs": [
    {
     "data": {
      "text/plain": [
       "unstable    6380\n",
       "stable      3620\n",
       "Name: stabf, dtype: int64"
      ]
     },
     "execution_count": 6,
     "metadata": {},
     "output_type": "execute_result"
    }
   ],
   "source": [
    "df.stabf.value_counts()"
   ]
  },
  {
   "cell_type": "code",
   "execution_count": 7,
   "id": "823ea3c3",
   "metadata": {},
   "outputs": [],
   "source": [
    "df = df.drop(\"stab\", axis =1)"
   ]
  },
  {
   "cell_type": "code",
   "execution_count": 8,
   "id": "061cb9a3",
   "metadata": {},
   "outputs": [],
   "source": [
    "df_s = df[df.stabf== 'stable' ]\n",
    "df_us = df[df.stabf== 'unstable' ].sample( 4500,random_state = 1 )"
   ]
  },
  {
   "cell_type": "code",
   "execution_count": 9,
   "id": "90468171",
   "metadata": {},
   "outputs": [
    {
     "data": {
      "text/plain": [
       "(8120, 13)"
      ]
     },
     "execution_count": 9,
     "metadata": {},
     "output_type": "execute_result"
    }
   ],
   "source": [
    "df1 = pd.concat([df_s,df_us], axis = 0)\n",
    "df1.shape"
   ]
  },
  {
   "cell_type": "code",
   "execution_count": 10,
   "id": "d559aaa2",
   "metadata": {},
   "outputs": [
    {
     "data": {
      "text/html": [
       "<div>\n",
       "<style scoped>\n",
       "    .dataframe tbody tr th:only-of-type {\n",
       "        vertical-align: middle;\n",
       "    }\n",
       "\n",
       "    .dataframe tbody tr th {\n",
       "        vertical-align: top;\n",
       "    }\n",
       "\n",
       "    .dataframe thead th {\n",
       "        text-align: right;\n",
       "    }\n",
       "</style>\n",
       "<table border=\"1\" class=\"dataframe\">\n",
       "  <thead>\n",
       "    <tr style=\"text-align: right;\">\n",
       "      <th></th>\n",
       "      <th>tau1</th>\n",
       "      <th>tau2</th>\n",
       "      <th>tau3</th>\n",
       "      <th>tau4</th>\n",
       "      <th>p1</th>\n",
       "      <th>p2</th>\n",
       "      <th>p3</th>\n",
       "      <th>p4</th>\n",
       "      <th>g1</th>\n",
       "      <th>g2</th>\n",
       "      <th>g3</th>\n",
       "      <th>g4</th>\n",
       "      <th>stabf</th>\n",
       "    </tr>\n",
       "  </thead>\n",
       "  <tbody>\n",
       "    <tr>\n",
       "      <th>0</th>\n",
       "      <td>0.810919</td>\n",
       "      <td>8.133520</td>\n",
       "      <td>0.549575</td>\n",
       "      <td>4.083202</td>\n",
       "      <td>2.448035</td>\n",
       "      <td>-1.089582</td>\n",
       "      <td>-0.827983</td>\n",
       "      <td>-0.530470</td>\n",
       "      <td>0.195460</td>\n",
       "      <td>0.862780</td>\n",
       "      <td>0.808818</td>\n",
       "      <td>0.762745</td>\n",
       "      <td>stable</td>\n",
       "    </tr>\n",
       "    <tr>\n",
       "      <th>1</th>\n",
       "      <td>9.437332</td>\n",
       "      <td>8.756440</td>\n",
       "      <td>2.306779</td>\n",
       "      <td>1.471366</td>\n",
       "      <td>2.889743</td>\n",
       "      <td>-0.837644</td>\n",
       "      <td>-1.464485</td>\n",
       "      <td>-0.587614</td>\n",
       "      <td>0.267648</td>\n",
       "      <td>0.601513</td>\n",
       "      <td>0.553181</td>\n",
       "      <td>0.329807</td>\n",
       "      <td>stable</td>\n",
       "    </tr>\n",
       "    <tr>\n",
       "      <th>2</th>\n",
       "      <td>3.648517</td>\n",
       "      <td>2.436924</td>\n",
       "      <td>2.838589</td>\n",
       "      <td>2.955571</td>\n",
       "      <td>3.964654</td>\n",
       "      <td>-0.813638</td>\n",
       "      <td>-1.833647</td>\n",
       "      <td>-1.317368</td>\n",
       "      <td>0.254153</td>\n",
       "      <td>0.907476</td>\n",
       "      <td>0.373152</td>\n",
       "      <td>0.050028</td>\n",
       "      <td>stable</td>\n",
       "    </tr>\n",
       "    <tr>\n",
       "      <th>3</th>\n",
       "      <td>1.731327</td>\n",
       "      <td>9.108828</td>\n",
       "      <td>5.159900</td>\n",
       "      <td>4.474762</td>\n",
       "      <td>3.504325</td>\n",
       "      <td>-1.730063</td>\n",
       "      <td>-0.834046</td>\n",
       "      <td>-0.940217</td>\n",
       "      <td>0.177749</td>\n",
       "      <td>0.520175</td>\n",
       "      <td>0.791095</td>\n",
       "      <td>0.629821</td>\n",
       "      <td>unstable</td>\n",
       "    </tr>\n",
       "    <tr>\n",
       "      <th>4</th>\n",
       "      <td>3.600860</td>\n",
       "      <td>0.841993</td>\n",
       "      <td>8.232926</td>\n",
       "      <td>9.723044</td>\n",
       "      <td>4.194645</td>\n",
       "      <td>-1.966628</td>\n",
       "      <td>-0.965838</td>\n",
       "      <td>-1.262179</td>\n",
       "      <td>0.366541</td>\n",
       "      <td>0.546375</td>\n",
       "      <td>0.975715</td>\n",
       "      <td>0.337411</td>\n",
       "      <td>unstable</td>\n",
       "    </tr>\n",
       "  </tbody>\n",
       "</table>\n",
       "</div>"
      ],
      "text/plain": [
       "       tau1      tau2      tau3      tau4        p1        p2        p3  \\\n",
       "0  0.810919  8.133520  0.549575  4.083202  2.448035 -1.089582 -0.827983   \n",
       "1  9.437332  8.756440  2.306779  1.471366  2.889743 -0.837644 -1.464485   \n",
       "2  3.648517  2.436924  2.838589  2.955571  3.964654 -0.813638 -1.833647   \n",
       "3  1.731327  9.108828  5.159900  4.474762  3.504325 -1.730063 -0.834046   \n",
       "4  3.600860  0.841993  8.232926  9.723044  4.194645 -1.966628 -0.965838   \n",
       "\n",
       "         p4        g1        g2        g3        g4     stabf  \n",
       "0 -0.530470  0.195460  0.862780  0.808818  0.762745    stable  \n",
       "1 -0.587614  0.267648  0.601513  0.553181  0.329807    stable  \n",
       "2 -1.317368  0.254153  0.907476  0.373152  0.050028    stable  \n",
       "3 -0.940217  0.177749  0.520175  0.791095  0.629821  unstable  \n",
       "4 -1.262179  0.366541  0.546375  0.975715  0.337411  unstable  "
      ]
     },
     "execution_count": 10,
     "metadata": {},
     "output_type": "execute_result"
    }
   ],
   "source": [
    "import sklearn.utils\n",
    "df1 = sklearn.utils.shuffle(df1)\n",
    "df1 = df1.reset_index(drop= True )\n",
    "df1.head()"
   ]
  },
  {
   "cell_type": "code",
   "execution_count": 11,
   "id": "142fa0d3",
   "metadata": {},
   "outputs": [
    {
     "data": {
      "text/plain": [
       "unstable    4500\n",
       "stable      3620\n",
       "Name: stabf, dtype: int64"
      ]
     },
     "execution_count": 11,
     "metadata": {},
     "output_type": "execute_result"
    }
   ],
   "source": [
    "df1.stabf.value_counts()"
   ]
  },
  {
   "cell_type": "code",
   "execution_count": 12,
   "id": "d81796f7",
   "metadata": {},
   "outputs": [],
   "source": [
    "X = df1.drop('stabf', axis = 1)\n",
    "y = df1.stabf"
   ]
  },
  {
   "cell_type": "code",
   "execution_count": 13,
   "id": "79280458",
   "metadata": {},
   "outputs": [
    {
     "data": {
      "text/plain": [
       "unstable    3591\n",
       "stable      2905\n",
       "Name: stabf, dtype: int64"
      ]
     },
     "execution_count": 13,
     "metadata": {},
     "output_type": "execute_result"
    }
   ],
   "source": [
    "#split the data into training and testing sets\n",
    "from sklearn.model_selection import train_test_split\n",
    "x_train, x_test, y_train, y_test = train_test_split(X, y, test_size= 0.2 , random_state= 0 )\n",
    "y_train.value_counts()"
   ]
  },
  {
   "cell_type": "code",
   "execution_count": 16,
   "id": "b25d3615",
   "metadata": {},
   "outputs": [
    {
     "data": {
      "text/plain": [
       "stable      3591\n",
       "unstable    3591\n",
       "Name: stabf, dtype: int64"
      ]
     },
     "execution_count": 16,
     "metadata": {},
     "output_type": "execute_result"
    }
   ],
   "source": [
    "from imblearn.over_sampling import SMOTE\n",
    "smote = SMOTE(random_state= 1)\n",
    "x_train_balanced, y_balanced = smote.fit_resample(x_train, y_train)\n",
    "y_balanced.value_counts()"
   ]
  },
  {
   "cell_type": "code",
   "execution_count": 17,
   "id": "953d4394",
   "metadata": {},
   "outputs": [],
   "source": [
    "from sklearn.preprocessing import StandardScaler\n",
    "scaler = StandardScaler()\n",
    "x_train_scale = scaler.fit_transform(x_train_balanced)\n",
    "x_test_scale = scaler.transform(x_test)"
   ]
  },
  {
   "cell_type": "code",
   "execution_count": 18,
   "id": "8e58ed84",
   "metadata": {},
   "outputs": [],
   "source": [
    "#Logistic Regression\n",
    "from sklearn.linear_model import LogisticRegression\n",
    "log_reg = LogisticRegression()\n",
    "log_reg=log_reg.fit(x_train_scale, y_balanced)"
   ]
  },
  {
   "cell_type": "code",
   "execution_count": 19,
   "id": "11b40b2b",
   "metadata": {},
   "outputs": [
    {
     "data": {
      "text/plain": [
       "0.8017241379310345"
      ]
     },
     "execution_count": 19,
     "metadata": {},
     "output_type": "execute_result"
    }
   ],
   "source": [
    "log_reg.score(x_test_scale,y_test)"
   ]
  },
  {
   "cell_type": "markdown",
   "id": "ba17b227",
   "metadata": {},
   "source": [
    "# CROSS VALIDATION SCORE"
   ]
  },
  {
   "cell_type": "code",
   "execution_count": 20,
   "id": "530dc776",
   "metadata": {},
   "outputs": [
    {
     "name": "stdout",
     "output_type": "stream",
     "text": [
      "[0.79260655 0.78914037 0.79456018 0.80779012 0.81615456]\n",
      "0.8000503562892153\n"
     ]
    }
   ],
   "source": [
    "from sklearn.model_selection import cross_val_score\n",
    "scores = cross_val_score(log_reg, x_train_scale, y_balanced, cv= 5 , scoring= 'f1_macro' )\n",
    "print(scores)\n",
    "print(scores.mean())"
   ]
  },
  {
   "cell_type": "markdown",
   "id": "f1bc9137",
   "metadata": {},
   "source": [
    "# K FOLDS"
   ]
  },
  {
   "cell_type": "code",
   "execution_count": 21,
   "id": "54a4c06e",
   "metadata": {},
   "outputs": [
    {
     "name": "stdout",
     "output_type": "stream",
     "text": [
      "[76.7787333854574, 78.69822485207101, 76.4484574868322, 79.84790874524715, 84.23772609819122]\n",
      "79.2022101135598\n"
     ]
    }
   ],
   "source": [
    "x_df = pd.DataFrame(x_train_scale, columns = X.columns)\n",
    "from sklearn.model_selection import KFold\n",
    "from sklearn.metrics import f1_score\n",
    "kf = KFold(n_splits= 5 )\n",
    "kf.split(x_df)\n",
    "f1 = []\n",
    "for train_index,test_index in kf.split(x_df):\n",
    "    X_train,X_test= x_df.iloc[train_index],x_df.iloc[test_index]\n",
    "    Y_train,Y_test = y_balanced.iloc[train_index], y_balanced[test_index]\n",
    "    model = LogisticRegression().fit(X_train, Y_train)\n",
    "     #save result to list\n",
    "    f1.append(f1_score(y_true=Y_test, y_pred=model.predict(X_test), pos_label= 'stable' )* 100 )\n",
    "print(f1)\n",
    "print(np.mean(f1))"
   ]
  },
  {
   "cell_type": "markdown",
   "id": "25edc79c",
   "metadata": {},
   "source": [
    "# STRATIFIED K FOLDS"
   ]
  },
  {
   "cell_type": "code",
   "execution_count": 22,
   "id": "537aae99",
   "metadata": {},
   "outputs": [
    {
     "name": "stdout",
     "output_type": "stream",
     "text": [
      "[79.83310152990263, 79.58333333333333, 80.33472803347281, 80.33012379642366, 79.3127147766323]\n",
      "79.87880029395293\n"
     ]
    }
   ],
   "source": [
    "from sklearn.model_selection import StratifiedKFold\n",
    "skf = StratifiedKFold(n_splits= 5 , shuffle= True , random_state= 1 )\n",
    "f1_scores = []\n",
    "for train_index,test_index in skf.split(x_df, y_balanced):\n",
    "    X_train,X_test= x_df.iloc[train_index],x_df.iloc[test_index]\n",
    "    Y_train,Y_test = y_balanced.iloc[train_index], y_balanced[test_index]\n",
    "    model = LogisticRegression().fit(X_train, Y_train)\n",
    "     #save result to list\n",
    "    f1_scores.append(f1_score(y_true=Y_test, y_pred=model.predict(X_test), pos_label= 'stable' )* 100 )\n",
    "print(f1_scores)\n",
    "print(np.mean(f1_scores))"
   ]
  },
  {
   "cell_type": "markdown",
   "id": "1b7f1eaf",
   "metadata": {},
   "source": [
    "# Leave One Out Cross Validation (LOOCV)"
   ]
  },
  {
   "cell_type": "code",
   "execution_count": 23,
   "id": "4d71648d",
   "metadata": {},
   "outputs": [],
   "source": [
    "from sklearn.model_selection import LeaveOneOut\n",
    "loo = LeaveOneOut()\n",
    "#scores = cross_val_score(LogisticRegression(), x_df, y_balanced, cv=loo,scoring= 'f1_macro' )\n",
    "#print(scores)\n",
    "#average_score = scores.mean() * 100"
   ]
  },
  {
   "cell_type": "markdown",
   "id": "143083ae",
   "metadata": {},
   "source": [
    "# CONFUSION MATRIX"
   ]
  },
  {
   "cell_type": "code",
   "execution_count": 24,
   "id": "211ba2e1",
   "metadata": {},
   "outputs": [
    {
     "data": {
      "text/plain": [
       "array([[579, 136],\n",
       "       [186, 723]], dtype=int64)"
      ]
     },
     "execution_count": 24,
     "metadata": {},
     "output_type": "execute_result"
    }
   ],
   "source": [
    "from sklearn.metrics import recall_score, accuracy_score, precision_score, f1_score, confusion_matrix\n",
    "new_predictions = log_reg.predict(x_test_scale)\n",
    "cnf_mat = confusion_matrix(y_true=y_test, y_pred=new_predictions, labels=[ 'stable' , 'unstable' ])\n",
    "cnf_mat"
   ]
  },
  {
   "cell_type": "code",
   "execution_count": null,
   "id": "04d8de4e",
   "metadata": {},
   "outputs": [],
   "source": []
  },
  {
   "cell_type": "code",
   "execution_count": 25,
   "id": "38a746ca",
   "metadata": {},
   "outputs": [
    {
     "name": "stdout",
     "output_type": "stream",
     "text": [
      "Accuracy: 80\n",
      "Precision: 76\n",
      "Recall: 81\n",
      "F1: 78\n"
     ]
    }
   ],
   "source": [
    "#Accuracy\n",
    "accuracy = accuracy_score(y_true=y_test, y_pred=new_predictions)\n",
    "print( 'Accuracy: {}' .format(round(accuracy* 100 ), 2 ))\n",
    "#Precision\n",
    "precision = precision_score(y_true=y_test, y_pred=new_predictions, pos_label= 'stable' )\n",
    "print( 'Precision: {}' .format(round(precision* 100 ), 2 ))\n",
    "#Recall\n",
    "recall = recall_score(y_true=y_test, y_pred=new_predictions, pos_label= 'stable' )\n",
    "print( 'Recall: {}' .format(round(recall* 100 ), 2 )) #prints 51.0\n",
    "#F1-Score\n",
    "f1 = f1_score(y_true=y_test, y_pred=new_predictions, pos_label= 'stable' )\n",
    "print( 'F1: {}' .format(round(f1* 100 ), 2 )) #prints 45.0 "
   ]
  },
  {
   "cell_type": "code",
   "execution_count": 27,
   "id": "8336b716",
   "metadata": {},
   "outputs": [],
   "source": [
    "from sklearn.metrics import classification_report, plot_confusion_matrix"
   ]
  },
  {
   "cell_type": "code",
   "execution_count": 33,
   "id": "11ed6dfd",
   "metadata": {},
   "outputs": [
    {
     "name": "stderr",
     "output_type": "stream",
     "text": [
      "C:\\Users\\user\\anaconda3\\lib\\site-packages\\sklearn\\utils\\deprecation.py:87: FutureWarning: Function plot_confusion_matrix is deprecated; Function `plot_confusion_matrix` is deprecated in 1.0 and will be removed in 1.2. Use one of the class methods: ConfusionMatrixDisplay.from_predictions or ConfusionMatrixDisplay.from_estimator.\n",
      "  warnings.warn(msg, category=FutureWarning)\n"
     ]
    },
    {
     "data": {
      "text/plain": [
       "<sklearn.metrics._plot.confusion_matrix.ConfusionMatrixDisplay at 0x27435c02e80>"
      ]
     },
     "execution_count": 33,
     "metadata": {},
     "output_type": "execute_result"
    },
    {
     "data": {
      "image/png": "[encoded data removed]",
      "text/plain": [
       "<Figure size 432x288 with 2 Axes>"
      ]
     },
     "metadata": {
      "needs_background": "light"
     },
     "output_type": "display_data"
    }
   ],
   "source": [
    "plot_confusion_matrix(log_reg, x_test_scale,y_test)"
   ]
  },
  {
   "cell_type": "code",
   "execution_count": 36,
   "id": "aad8e671",
   "metadata": {},
   "outputs": [
    {
     "name": "stdout",
     "output_type": "stream",
     "text": [
      "              precision    recall  f1-score   support\n",
      "\n",
      "      stable       0.76      0.81      0.78       715\n",
      "    unstable       0.84      0.80      0.82       909\n",
      "\n",
      "    accuracy                           0.80      1624\n",
      "   macro avg       0.80      0.80      0.80      1624\n",
      "weighted avg       0.80      0.80      0.80      1624\n",
      "\n"
     ]
    }
   ],
   "source": [
    "print(classification_report(y_test,new_predictions))"
   ]
  },
  {
   "cell_type": "markdown",
   "id": "145fb221",
   "metadata": {},
   "source": [
    "# DECISION TREE"
   ]
  },
  {
   "cell_type": "code",
   "execution_count": 26,
   "id": "a7f2aae8",
   "metadata": {},
   "outputs": [
    {
     "data": {
      "text/plain": [
       "0.8300492610837439"
      ]
     },
     "execution_count": 26,
     "metadata": {},
     "output_type": "execute_result"
    }
   ],
   "source": [
    "from sklearn.tree import DecisionTreeClassifier\n",
    "dec_tree = DecisionTreeClassifier()\n",
    "dec_tree.fit(x_train_scale, y_balanced) \n",
    "dec_tree.score(x_test_scale,y_test)"
   ]
  },
  {
   "cell_type": "code",
   "execution_count": 35,
   "id": "99dcd970",
   "metadata": {},
   "outputs": [
    {
     "data": {
      "text/plain": [
       "<sklearn.metrics._plot.confusion_matrix.ConfusionMatrixDisplay at 0x27431fb1e50>"
      ]
     },
     "execution_count": 35,
     "metadata": {},
     "output_type": "execute_result"
    },
    {
     "data": {
      "image/png": "[encoded data removed]",
      "text/plain": [
       "<Figure size 432x288 with 2 Axes>"
      ]
     },
     "metadata": {
      "needs_background": "light"
     },
     "output_type": "display_data"
    }
   ],
   "source": [
    "plot_confusion_matrix(dec_tree, x_test_scale,y_test)"
   ]
  },
  {
   "cell_type": "code",
   "execution_count": 37,
   "id": "36e9821d",
   "metadata": {},
   "outputs": [
    {
     "name": "stdout",
     "output_type": "stream",
     "text": [
      "              precision    recall  f1-score   support\n",
      "\n",
      "      stable       0.80      0.82      0.81       715\n",
      "    unstable       0.86      0.83      0.85       909\n",
      "\n",
      "    accuracy                           0.83      1624\n",
      "   macro avg       0.83      0.83      0.83      1624\n",
      "weighted avg       0.83      0.83      0.83      1624\n",
      "\n"
     ]
    }
   ],
   "source": [
    "print(classification_report(y_test,dec_tree.predict(x_test_scale)))"
   ]
  },
  {
   "cell_type": "code",
   "execution_count": 38,
   "id": "c9ad6e18",
   "metadata": {},
   "outputs": [],
   "source": [
    "from sklearn.ensemble import RandomForestClassifier"
   ]
  },
  {
   "cell_type": "code",
   "execution_count": 40,
   "id": "87b8ce9d",
   "metadata": {},
   "outputs": [
    {
     "data": {
      "text/plain": [
       "0.9205665024630542"
      ]
     },
     "execution_count": 40,
     "metadata": {},
     "output_type": "execute_result"
    }
   ],
   "source": [
    "from sklearn.ensemble import RandomForestClassifier\n",
    "rfc = RandomForestClassifier()\n",
    "rfc = rfc.fit(x_train_scale,y_balanced)\n",
    "rfc.score(x_test_scale,y_test)"
   ]
  },
  {
   "cell_type": "code",
   "execution_count": 43,
   "id": "26ffd1af",
   "metadata": {},
   "outputs": [
    {
     "name": "stdout",
     "output_type": "stream",
     "text": [
      "[0.90464402 0.91718714 0.90876902 0.92056828 0.94766436]\n",
      "0.9197665652144608\n"
     ]
    }
   ],
   "source": [
    "scores = cross_val_score(rfc, x_train_scale, y_balanced, cv= 5 , scoring= 'f1_macro' )\n",
    "print(scores)\n",
    "print(scores.mean())"
   ]
  },
  {
   "cell_type": "code",
   "execution_count": 41,
   "id": "67d1f136",
   "metadata": {},
   "outputs": [
    {
     "data": {
      "text/plain": [
       "<sklearn.metrics._plot.confusion_matrix.ConfusionMatrixDisplay at 0x27435d37370>"
      ]
     },
     "execution_count": 41,
     "metadata": {},
     "output_type": "execute_result"
    },
    {
     "data": {
      "image/png": "[encoded data removed]",
      "text/plain": [
       "<Figure size 432x288 with 2 Axes>"
      ]
     },
     "metadata": {
      "needs_background": "light"
     },
     "output_type": "display_data"
    }
   ],
   "source": [
    "plot_confusion_matrix(rfc, x_test_scale,y_test)"
   ]
  },
  {
   "cell_type": "code",
   "execution_count": 42,
   "id": "4ea24ab0",
   "metadata": {},
   "outputs": [
    {
     "name": "stdout",
     "output_type": "stream",
     "text": [
      "              precision    recall  f1-score   support\n",
      "\n",
      "      stable       0.88      0.94      0.91       715\n",
      "    unstable       0.95      0.90      0.93       909\n",
      "\n",
      "    accuracy                           0.92      1624\n",
      "   macro avg       0.92      0.92      0.92      1624\n",
      "weighted avg       0.92      0.92      0.92      1624\n",
      "\n"
     ]
    }
   ],
   "source": [
    "print(classification_report(y_test,rfc.predict(x_test_scale)))"
   ]
  },
  {
   "cell_type": "code",
   "execution_count": 44,
   "id": "92c44670",
   "metadata": {},
   "outputs": [],
   "source": [
    "from sklearn.ensemble import VotingClassifier\n",
    "from sklearn.linear_model import LogisticRegression\n",
    "from sklearn.svm import SVC\n",
    "from sklearn.tree import DecisionTreeClassifier\n",
    "from sklearn.metrics import accuracy_score\n",
    "from sklearn.model_selection import train_test_split"
   ]
  },
  {
   "cell_type": "code",
   "execution_count": 45,
   "id": "19ed4718",
   "metadata": {},
   "outputs": [],
   "source": [
    "# group / ensemble of models\n",
    "estimator = []\n",
    "estimator.append(('LR', \n",
    "                  LogisticRegression(solver ='lbfgs', \n",
    "                                     max_iter = 200)))\n",
    "estimator.append(('SVC', SVC(gamma ='auto', probability = True)))\n",
    "estimator.append(('DTC', DecisionTreeClassifier()))\n",
    "estimator.append(('RFC', RandomForestClassifier()))\n"
   ]
  },
  {
   "cell_type": "code",
   "execution_count": 58,
   "id": "c7624031",
   "metadata": {},
   "outputs": [
    {
     "name": "stdout",
     "output_type": "stream",
     "text": [
      "Hard Voting Score =  91.0 %\n",
      "Soft Voting Score =  93.0 %\n"
     ]
    }
   ],
   "source": [
    "# Voting Classifier with hard voting\n",
    "vot_hard = VotingClassifier(estimators = estimator, voting ='hard')\n",
    "vot_hard.fit(x_train_scale, y_balanced)\n",
    "y_pred = vot_hard.predict(x_test_scale)\n",
    "  \n",
    "# using accuracy_score metric to predict accuracy\n",
    "score = vot_hard.score(x_test_scale,y_test)\n",
    "print(\"Hard Voting Score = \", np.round(score, 2) *100 ,'%')\n",
    "  \n",
    "# Voting Classifier with soft voting\n",
    "vot_soft = VotingClassifier(estimators = estimator, voting ='soft')\n",
    "vot_soft.fit(x_train_scale, y_balanced)\n",
    "y_pred = vot_soft.predict(x_test_scale)\n",
    "  \n",
    "# using accuracy_score\n",
    "score = accuracy_score(y_test, y_pred)\n",
    "print(\"Soft Voting Score = \", np.round(score, 2) *100 ,'%')"
   ]
  },
  {
   "cell_type": "code",
   "execution_count": 59,
   "id": "f01f2172",
   "metadata": {},
   "outputs": [
    {
     "data": {
      "text/plain": [
       "<sklearn.metrics._plot.confusion_matrix.ConfusionMatrixDisplay at 0x27435dc5eb0>"
      ]
     },
     "execution_count": 59,
     "metadata": {},
     "output_type": "execute_result"
    },
    {
     "data": {
      "image/png": "[encoded data removed]",
      "text/plain": [
       "<Figure size 432x288 with 2 Axes>"
      ]
     },
     "metadata": {
      "needs_background": "light"
     },
     "output_type": "display_data"
    }
   ],
   "source": [
    "plot_confusion_matrix(vot_hard, x_test_scale,y_test)"
   ]
  },
  {
   "cell_type": "code",
   "execution_count": 61,
   "id": "49ab41b9",
   "metadata": {},
   "outputs": [
    {
     "name": "stdout",
     "output_type": "stream",
     "text": [
      "              precision    recall  f1-score   support\n",
      "\n",
      "      stable       0.85      0.97      0.91       715\n",
      "    unstable       0.98      0.86      0.92       909\n",
      "\n",
      "    accuracy                           0.91      1624\n",
      "   macro avg       0.91      0.92      0.91      1624\n",
      "weighted avg       0.92      0.91      0.91      1624\n",
      "\n"
     ]
    }
   ],
   "source": [
    "print(classification_report(y_test,vot_hard.predict(x_test_scale)))"
   ]
  },
  {
   "cell_type": "code",
   "execution_count": null,
   "id": "181e16c8",
   "metadata": {},
   "outputs": [],
   "source": []
  },
  {
   "cell_type": "markdown",
   "id": "95ecd3eb",
   "metadata": {},
   "source": [
    "# BAGGING"
   ]
  },
  {
   "cell_type": "code",
   "execution_count": 64,
   "id": "e857824a",
   "metadata": {},
   "outputs": [],
   "source": [
    "from sklearn.ensemble import BaggingClassifier\n",
    "from sklearn import model_selection"
   ]
  },
  {
   "cell_type": "code",
   "execution_count": 66,
   "id": "1df2651b",
   "metadata": {},
   "outputs": [
    {
     "name": "stdout",
     "output_type": "stream",
     "text": [
      "[0.91614333 0.89730329 0.90243902]\n",
      "accuracy :\n",
      "0.9052952147548812\n"
     ]
    }
   ],
   "source": [
    "seed = 8\n",
    "kfold = model_selection.KFold(n_splits = 3, shuffle=True,\n",
    "                       random_state = seed)\n",
    "  \n",
    "# initialize the base classifier\n",
    "base_cls = DecisionTreeClassifier()\n",
    "  \n",
    "# no. of base classifier\n",
    "num_trees = 500\n",
    "  \n",
    "# bagging classifier\n",
    "model = BaggingClassifier(base_estimator = base_cls,\n",
    "                          n_estimators = num_trees,\n",
    "                          random_state = seed)\n",
    "  \n",
    "results = model_selection.cross_val_score(model, X, y, cv = kfold)\n",
    "print(results)\n",
    "print(\"accuracy :\")\n",
    "print(results.mean())"
   ]
  },
  {
   "cell_type": "code",
   "execution_count": null,
   "id": "d1e4c150",
   "metadata": {},
   "outputs": [],
   "source": []
  },
  {
   "cell_type": "markdown",
   "id": "447d05d5",
   "metadata": {},
   "source": [
    "# XGBoost (eXtreme Gradient Boosting)"
   ]
  },
  {
   "cell_type": "code",
   "execution_count": 69,
   "id": "e97d81c6",
   "metadata": {},
   "outputs": [],
   "source": [
    "#pip install xgboost"
   ]
  },
  {
   "cell_type": "code",
   "execution_count": 74,
   "id": "559411d6",
   "metadata": {},
   "outputs": [],
   "source": [
    "import xgboost as xgb\n",
    "from sklearn.preprocessing import LabelEncoder"
   ]
  },
  {
   "cell_type": "code",
   "execution_count": 77,
   "id": "a1c078f5",
   "metadata": {},
   "outputs": [],
   "source": [
    "# Fitting XGBoost to the training data\n",
    "# encode string class values as integers\n",
    "label_encoder = LabelEncoder()\n",
    "label_encoder = label_encoder.fit(y_balanced)\n",
    "label_encoded_y = label_encoder.transform(y_balanced)\n",
    "my_model = xgb.XGBClassifier()\n",
    "my_model.fit(x_train_scale, label_encoded_y)\n",
    " \n",
    "# Predicting the Test set results\n",
    "y_pred = my_model.predict(x_test_scale)\n",
    " \n",
    "# Making the Confusion Matrix\n",
    "y_test_enco   = label_encoder.transform(y_test)\n",
    "cm = confusion_matrix(y_test_enco, y_pred)"
   ]
  },
  {
   "cell_type": "code",
   "execution_count": 79,
   "id": "cd07f715",
   "metadata": {},
   "outputs": [
    {
     "data": {
      "text/plain": [
       "array([[686,  29],\n",
       "       [ 58, 851]], dtype=int64)"
      ]
     },
     "execution_count": 79,
     "metadata": {},
     "output_type": "execute_result"
    }
   ],
   "source": [
    "cm"
   ]
  },
  {
   "cell_type": "code",
   "execution_count": 78,
   "id": "a1a862f9",
   "metadata": {},
   "outputs": [
    {
     "name": "stdout",
     "output_type": "stream",
     "text": [
      "              precision    recall  f1-score   support\n",
      "\n",
      "           0       0.92      0.96      0.94       715\n",
      "           1       0.97      0.94      0.95       909\n",
      "\n",
      "    accuracy                           0.95      1624\n",
      "   macro avg       0.94      0.95      0.95      1624\n",
      "weighted avg       0.95      0.95      0.95      1624\n",
      "\n"
     ]
    }
   ],
   "source": [
    "print(classification_report(y_test_enco,my_model.predict(x_test_scale)))"
   ]
  },
  {
   "cell_type": "code",
   "execution_count": 80,
   "id": "98a5a8d1",
   "metadata": {},
   "outputs": [
    {
     "data": {
      "text/plain": [
       "<sklearn.metrics._plot.confusion_matrix.ConfusionMatrixDisplay at 0x27435d2f700>"
      ]
     },
     "execution_count": 80,
     "metadata": {},
     "output_type": "execute_result"
    },
    {
     "data": {
      "image/png": "[encoded data removed]",
      "text/plain": [
       "<Figure size 432x288 with 2 Axes>"
      ]
     },
     "metadata": {
      "needs_background": "light"
     },
     "output_type": "display_data"
    }
   ],
   "source": [
    "plot_confusion_matrix(my_model, x_test_scale,y_test_enco)"
   ]
  },
  {
   "cell_type": "code",
   "execution_count": null,
   "id": "924587f3",
   "metadata": {},
   "outputs": [],
   "source": []
  },
  {
   "cell_type": "markdown",
   "id": "7d953c83",
   "metadata": {},
   "source": [
    "XGBoost is a very fast and accurate ML algorithm. But now it's been challenged by LightGBM — which runs even faster with comparable model accuracy and more hyperparameters for users to tune."
   ]
  },
  {
   "cell_type": "markdown",
   "id": "3ee6d751",
   "metadata": {},
   "source": [
    "#  LightGBM "
   ]
  },
  {
   "cell_type": "code",
   "execution_count": 82,
   "id": "4ee0fac9",
   "metadata": {},
   "outputs": [
    {
     "name": "stdout",
     "output_type": "stream",
     "text": [
      "Collecting lightgbm\n",
      "  Downloading lightgbm-3.3.2-py3-none-win_amd64.whl (1.0 MB)\n",
      "     ---------------------------------------- 1.0/1.0 MB 797.0 kB/s eta 0:00:00\n",
      "Requirement already satisfied: numpy in c:\\users\\user\\anaconda3\\lib\\site-packages (from lightgbm) (1.22.4)\n",
      "Requirement already satisfied: scipy in c:\\users\\user\\anaconda3\\lib\\site-packages (from lightgbm) (1.6.2)\n",
      "Requirement already satisfied: wheel in c:\\users\\user\\anaconda3\\lib\\site-packages (from lightgbm) (0.36.2)Note: you may need to restart the kernel to use updated packages.\n",
      "\n",
      "Requirement already satisfied: scikit-learn!=0.22.0 in c:\\users\\user\\anaconda3\\lib\\site-packages (from lightgbm) (1.1.1)\n",
      "Requirement already satisfied: joblib>=1.0.0 in c:\\users\\user\\anaconda3\\lib\\site-packages (from scikit-learn!=0.22.0->lightgbm) (1.0.1)\n",
      "Requirement already satisfied: threadpoolctl>=2.0.0 in c:\\users\\user\\anaconda3\\lib\\site-packages (from scikit-learn!=0.22.0->lightgbm) (2.1.0)\n",
      "Installing collected packages: lightgbm\n",
      "Successfully installed lightgbm-3.3.2\n"
     ]
    }
   ],
   "source": [
    "#pip install lightgbm"
   ]
  },
  {
   "cell_type": "code",
   "execution_count": 83,
   "id": "572129fc",
   "metadata": {},
   "outputs": [
    {
     "data": {
      "text/html": [
       "<style>#sk-container-id-1 {color: black;background-color: white;}#sk-container-id-1 pre{padding: 0;}#sk-container-id-1 div.sk-toggleable {background-color: white;}#sk-container-id-1 label.sk-toggleable__label {cursor: pointer;display: block;width: 100%;margin-bottom: 0;padding: 0.3em;box-sizing: border-box;text-align: center;}#sk-container-id-1 label.sk-toggleable__label-arrow:before {content: \"▸\";float: left;margin-right: 0.25em;color: #696969;}#sk-container-id-1 label.sk-toggleable__label-arrow:hover:before {color: black;}#sk-container-id-1 div.sk-estimator:hover label.sk-toggleable__label-arrow:before {color: black;}#sk-container-id-1 div.sk-toggleable__content {max-height: 0;max-width: 0;overflow: hidden;text-align: left;background-color: #f0f8ff;}#sk-container-id-1 div.sk-toggleable__content pre {margin: 0.2em;color: black;border-radius: 0.25em;background-color: #f0f8ff;}#sk-container-id-1 input.sk-toggleable__control:checked~div.sk-toggleable__content {max-height: 200px;max-width: 100%;overflow: auto;}#sk-container-id-1 input.sk-toggleable__control:checked~label.sk-toggleable__label-arrow:before {content: \"▾\";}#sk-container-id-1 div.sk-estimator input.sk-toggleable__control:checked~label.sk-toggleable__label {background-color: #d4ebff;}#sk-container-id-1 div.sk-label input.sk-toggleable__control:checked~label.sk-toggleable__label {background-color: #d4ebff;}#sk-container-id-1 input.sk-hidden--visually {border: 0;clip: rect(1px 1px 1px 1px);clip: rect(1px, 1px, 1px, 1px);height: 1px;margin: -1px;overflow: hidden;padding: 0;position: absolute;width: 1px;}#sk-container-id-1 div.sk-estimator {font-family: monospace;background-color: #f0f8ff;border: 1px dotted black;border-radius: 0.25em;box-sizing: border-box;margin-bottom: 0.5em;}#sk-container-id-1 div.sk-estimator:hover {background-color: #d4ebff;}#sk-container-id-1 div.sk-parallel-item::after {content: \"\";width: 100%;border-bottom: 1px solid gray;flex-grow: 1;}#sk-container-id-1 div.sk-label:hover label.sk-toggleable__label {background-color: #d4ebff;}#sk-container-id-1 div.sk-serial::before {content: \"\";position: absolute;border-left: 1px solid gray;box-sizing: border-box;top: 0;bottom: 0;left: 50%;z-index: 0;}#sk-container-id-1 div.sk-serial {display: flex;flex-direction: column;align-items: center;background-color: white;padding-right: 0.2em;padding-left: 0.2em;position: relative;}#sk-container-id-1 div.sk-item {position: relative;z-index: 1;}#sk-container-id-1 div.sk-parallel {display: flex;align-items: stretch;justify-content: center;background-color: white;position: relative;}#sk-container-id-1 div.sk-item::before, #sk-container-id-1 div.sk-parallel-item::before {content: \"\";position: absolute;border-left: 1px solid gray;box-sizing: border-box;top: 0;bottom: 0;left: 50%;z-index: -1;}#sk-container-id-1 div.sk-parallel-item {display: flex;flex-direction: column;z-index: 1;position: relative;background-color: white;}#sk-container-id-1 div.sk-parallel-item:first-child::after {align-self: flex-end;width: 50%;}#sk-container-id-1 div.sk-parallel-item:last-child::after {align-self: flex-start;width: 50%;}#sk-container-id-1 div.sk-parallel-item:only-child::after {width: 0;}#sk-container-id-1 div.sk-dashed-wrapped {border: 1px dashed gray;margin: 0 0.4em 0.5em 0.4em;box-sizing: border-box;padding-bottom: 0.4em;background-color: white;}#sk-container-id-1 div.sk-label label {font-family: monospace;font-weight: bold;display: inline-block;line-height: 1.2em;}#sk-container-id-1 div.sk-label-container {text-align: center;}#sk-container-id-1 div.sk-container {/* jupyter's `normalize.less` sets `[hidden] { display: none; }` but bootstrap.min.css set `[hidden] { display: none !important; }` so we also need the `!important` here to be able to override the default hidden behavior on the sphinx rendered scikit-learn.org. See: https://github.com/scikit-learn/scikit-learn/issues/21755 */display: inline-block !important;position: relative;}#sk-container-id-1 div.sk-text-repr-fallback {display: none;}</style><div id=\"sk-container-id-1\" class=\"sk-top-container\"><div class=\"sk-text-repr-fallback\"><pre>LGBMClassifier()</pre><b>In a Jupyter environment, please rerun this cell to show the HTML representation or trust the notebook. <br />On GitHub, the HTML representation is unable to render, please try loading this page with nbviewer.org.</b></div><div class=\"sk-container\" hidden><div class=\"sk-item\"><div class=\"sk-estimator sk-toggleable\"><input class=\"sk-toggleable__control sk-hidden--visually\" id=\"sk-estimator-id-1\" type=\"checkbox\" checked><label for=\"sk-estimator-id-1\" class=\"sk-toggleable__label sk-toggleable__label-arrow\">LGBMClassifier</label><div class=\"sk-toggleable__content\"><pre>LGBMClassifier()</pre></div></div></div></div></div>"
      ],
      "text/plain": [
       "LGBMClassifier()"
      ]
     },
     "execution_count": 83,
     "metadata": {},
     "output_type": "execute_result"
    }
   ],
   "source": [
    "# build the lightgbm model\n",
    "import lightgbm as lgb\n",
    "clf = lgb.LGBMClassifier()\n",
    "clf.fit(x_train_scale, y_balanced)\n",
    "print(classification_report(y_test,clf.predict(x_test_scale)))"
   ]
  },
  {
   "cell_type": "code",
   "execution_count": 84,
   "id": "f28ab768",
   "metadata": {},
   "outputs": [
    {
     "name": "stdout",
     "output_type": "stream",
     "text": [
      "              precision    recall  f1-score   support\n",
      "\n",
      "      stable       0.92      0.95      0.93       715\n",
      "    unstable       0.96      0.94      0.95       909\n",
      "\n",
      "    accuracy                           0.94      1624\n",
      "   macro avg       0.94      0.94      0.94      1624\n",
      "weighted avg       0.94      0.94      0.94      1624\n",
      "\n"
     ]
    }
   ],
   "source": [
    "print(classification_report(y_test,clf.predict(x_test_scale)))"
   ]
  },
  {
   "cell_type": "code",
   "execution_count": 85,
   "id": "57a30a1a",
   "metadata": {},
   "outputs": [
    {
     "data": {
      "text/plain": [
       "<sklearn.metrics._plot.confusion_matrix.ConfusionMatrixDisplay at 0x2743bffa580>"
      ]
     },
     "execution_count": 85,
     "metadata": {},
     "output_type": "execute_result"
    },
    {
     "data": {
      "image/png": "[encoded data removed]",
      "text/plain": [
       "<Figure size 432x288 with 2 Axes>"
      ]
     },
     "metadata": {
      "needs_background": "light"
     },
     "output_type": "display_data"
    }
   ],
   "source": [
    "plot_confusion_matrix(clf, x_test_scale,y_test)"
   ]
  },
  {
   "cell_type": "code",
   "execution_count": null,
   "id": "9f377cca",
   "metadata": {},
   "outputs": [],
   "source": []
  }
 ],
 "metadata": {
  "kernelspec": {
   "display_name": "Python 3",
   "language": "python",
   "name": "python3"
  },
  "language_info": {
   "codemirror_mode": {
    "name": "ipython",
    "version": 3
   },
   "file_extension": ".py",
   "mimetype": "text/x-python",
   "name": "python",
   "nbconvert_exporter": "python",
   "pygments_lexer": "ipython3",
   "version": "3.8.8"
  }
 },
 "nbformat": 4,
 "nbformat_minor": 5
}
